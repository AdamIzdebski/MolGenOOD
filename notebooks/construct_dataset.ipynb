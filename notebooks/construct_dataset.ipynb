{
 "cells": [
  {
   "cell_type": "code",
   "execution_count": 8,
   "id": "2e04c45f",
   "metadata": {},
   "outputs": [
    {
     "name": "stdout",
     "output_type": "stream",
     "text": [
      "The autoreload extension is already loaded. To reload it, use:\n",
      "  %reload_ext autoreload\n"
     ]
    }
   ],
   "source": [
    "from scripts.construct_dataset import main\n",
    "\n",
    "%load_ext autoreload\n",
    "%autoreload 2\n"
   ]
  },
  {
   "cell_type": "code",
   "execution_count": 9,
   "id": "17eb84fb",
   "metadata": {},
   "outputs": [
    {
     "name": "stderr",
     "output_type": "stream",
     "text": [
      "Constructing dataset:  20%|██████████▌                                          | 1/5 [00:00<00:03,  1.16it/s]"
     ]
    },
    {
     "name": "stdout",
     "output_type": "stream",
     "text": [
      "Dataset constructed for seed 0 and saved to data/processed/zinc250k_synthetic_threshold_90_n_3000/logp/seed_0\n",
      "Train size: 2400 with class balance: 0.2125\n",
      "IID size: 159 with class balance: 0.16981132075471697\n",
      "OOD size: 441 with class balance: 0.20408163265306123\n",
      "Synthetic size: 600 with class balance: 0.1\n",
      "Classification threshold: 3.6070620000000027\n"
     ]
    },
    {
     "name": "stderr",
     "output_type": "stream",
     "text": [
      "Constructing dataset:  40%|█████████████████████▏                               | 2/5 [00:01<00:02,  1.19it/s]"
     ]
    },
    {
     "name": "stdout",
     "output_type": "stream",
     "text": [
      "Dataset constructed for seed 1 and saved to data/processed/zinc250k_synthetic_threshold_90_n_3000/logp/seed_1\n",
      "Train size: 2400 with class balance: 0.21416666666666667\n",
      "IID size: 157 with class balance: 0.22929936305732485\n",
      "OOD size: 443 with class balance: 0.20316027088036118\n",
      "Synthetic size: 600 with class balance: 0.1\n",
      "Classification threshold: 3.571770000000002\n"
     ]
    },
    {
     "name": "stderr",
     "output_type": "stream",
     "text": [
      "Constructing dataset:  60%|███████████████████████████████▊                     | 3/5 [00:02<00:01,  1.21it/s]"
     ]
    },
    {
     "name": "stdout",
     "output_type": "stream",
     "text": [
      "Dataset constructed for seed 2 and saved to data/processed/zinc250k_synthetic_threshold_90_n_3000/logp/seed_2\n",
      "Train size: 2400 with class balance: 0.19333333333333333\n",
      "IID size: 149 with class balance: 0.18791946308724833\n",
      "OOD size: 451 with class balance: 0.1729490022172949\n",
      "Synthetic size: 600 with class balance: 0.1\n",
      "Classification threshold: 3.6156440000000023\n"
     ]
    },
    {
     "name": "stderr",
     "output_type": "stream",
     "text": [
      "Constructing dataset:  80%|██████████████████████████████████████████▍          | 4/5 [00:03<00:00,  1.21it/s]"
     ]
    },
    {
     "name": "stdout",
     "output_type": "stream",
     "text": [
      "Dataset constructed for seed 3 and saved to data/processed/zinc250k_synthetic_threshold_90_n_3000/logp/seed_3\n",
      "Train size: 2400 with class balance: 0.19625\n",
      "IID size: 172 with class balance: 0.23255813953488372\n",
      "OOD size: 428 with class balance: 0.2219626168224299\n",
      "Synthetic size: 600 with class balance: 0.1\n",
      "Classification threshold: 3.6203820000000024\n"
     ]
    },
    {
     "name": "stderr",
     "output_type": "stream",
     "text": [
      "Constructing dataset: 100%|█████████████████████████████████████████████████████| 5/5 [00:04<00:00,  1.21it/s]"
     ]
    },
    {
     "name": "stdout",
     "output_type": "stream",
     "text": [
      "Dataset constructed for seed 4 and saved to data/processed/zinc250k_synthetic_threshold_90_n_3000/logp/seed_4\n",
      "Train size: 2400 with class balance: 0.21583333333333332\n",
      "IID size: 161 with class balance: 0.21739130434782608\n",
      "OOD size: 439 with class balance: 0.20501138952164008\n",
      "Synthetic size: 600 with class balance: 0.1\n",
      "Classification threshold: 3.515348000000002\n"
     ]
    },
    {
     "name": "stderr",
     "output_type": "stream",
     "text": [
      "\n"
     ]
    }
   ],
   "source": [
    "\n",
    "main(\n",
    "    out_dir=\"data/processed/zinc250k_synthetic_threshold_90_n_3000/logp\",\n",
    "    data_filepath=\"data/raw/zinc_250k_temporary/zinc250k_val.csv\",\n",
    "    data_filepath_synthetic=\"data/raw/synthetic/oracle_history.csv\"\n",
    "    )"
   ]
  },
  {
   "cell_type": "code",
   "execution_count": null,
   "id": "aa829b4a",
   "metadata": {},
   "outputs": [],
   "source": []
  }
 ],
 "metadata": {
  "kernelspec": {
   "display_name": "Python 3 (ipykernel)",
   "language": "python",
   "name": "python3"
  },
  "language_info": {
   "codemirror_mode": {
    "name": "ipython",
    "version": 3
   },
   "file_extension": ".py",
   "mimetype": "text/x-python",
   "name": "python",
   "nbconvert_exporter": "python",
   "pygments_lexer": "ipython3",
   "version": "3.12.11"
  }
 },
 "nbformat": 4,
 "nbformat_minor": 5
}
